{
 "cells": [
  {
   "cell_type": "code",
   "execution_count": 1,
   "id": "34d4e4af",
   "metadata": {},
   "outputs": [],
   "source": [
    "import requests\n",
    "from io import StringIO\n",
    "import pandas as pd\n",
    "\n",
    "res = requests.get('https://raw.githubusercontent.com/brmson/dataset-sts/master/data/sts/sick2014/SICK_train.txt')\n",
    "# create dataframe\n",
    "data = pd.read_csv(StringIO(res.text), sep='\\t')\n",
    "\n",
    "sentences = data['sentence_A'].tolist()\n",
    "\n",
    "sentences = data['sentence_A'].tolist()\n",
    "sentence_b = data['sentence_B'].tolist()\n",
    "sentences.extend(sentence_b)  # merge them"
   ]
  },
  {
   "cell_type": "code",
   "execution_count": 2,
   "id": "eb96b8ef",
   "metadata": {},
   "outputs": [],
   "source": [
    "urls = [\n",
    "    'https://raw.githubusercontent.com/brmson/dataset-sts/master/data/sts/semeval-sts/2012/MSRpar.train.tsv',\n",
    "    'https://raw.githubusercontent.com/brmson/dataset-sts/master/data/sts/semeval-sts/2012/MSRpar.test.tsv',\n",
    "    'https://raw.githubusercontent.com/brmson/dataset-sts/master/data/sts/semeval-sts/2012/OnWN.test.tsv',\n",
    "    'https://raw.githubusercontent.com/brmson/dataset-sts/master/data/sts/semeval-sts/2013/OnWN.test.tsv',\n",
    "    'https://raw.githubusercontent.com/brmson/dataset-sts/master/data/sts/semeval-sts/2014/OnWN.test.tsv',\n",
    "    'https://raw.githubusercontent.com/brmson/dataset-sts/master/data/sts/semeval-sts/2014/images.test.tsv',\n",
    "    'https://raw.githubusercontent.com/brmson/dataset-sts/master/data/sts/semeval-sts/2015/images.test.tsv'\n",
    "]\n",
    "\n",
    "# each of these dataset have the same structure, so we loop through each creating our sentences data\n",
    "for url in urls:\n",
    "    res = requests.get(url)\n",
    "    # extract to dataframe\n",
    "    data = pd.read_csv(StringIO(res.text), sep='\\t', header=None, on_bad_lines='skip')\n",
    "    # add to columns 1 and 2 to sentences list\n",
    "    sentences.extend(data[1].tolist())\n",
    "    sentences.extend(data[2].tolist())"
   ]
  },
  {
   "cell_type": "code",
   "execution_count": 3,
   "id": "dc1768b5",
   "metadata": {},
   "outputs": [],
   "source": [
    "# remove duplicates and NaN\n",
    "sentences = [word for word in list(set(sentences)) if type(word) is str]"
   ]
  },
  {
   "cell_type": "code",
   "execution_count": 4,
   "id": "c6f67a17",
   "metadata": {},
   "outputs": [],
   "source": [
    "from sentence_transformers import SentenceTransformer\n",
    "# initialize sentence transformer model\n",
    "model = SentenceTransformer('bert-base-nli-mean-tokens')\n",
    "# create sentence embeddings\n",
    "sentence_embeddings = model.encode(sentences)"
   ]
  },
  {
   "cell_type": "code",
   "execution_count": 5,
   "id": "3d8b0a82",
   "metadata": {},
   "outputs": [
    {
     "name": "stdout",
     "output_type": "stream",
     "text": [
      "14504\n"
     ]
    }
   ],
   "source": [
    "import faiss\n",
    "d = sentence_embeddings.shape[1]\n",
    "index = faiss.IndexFlatL2(d)\n",
    "\n",
    "index.add(sentence_embeddings)\n",
    "\n",
    "print(index.ntotal)"
   ]
  },
  {
   "cell_type": "code",
   "execution_count": 6,
   "id": "2840ca6e",
   "metadata": {},
   "outputs": [],
   "source": [
    "k = 4\n",
    "xq = model.encode([\"Someone sprints with a football\"])"
   ]
  },
  {
   "cell_type": "code",
   "execution_count": 7,
   "id": "188a99e5",
   "metadata": {},
   "outputs": [
    {
     "name": "stdout",
     "output_type": "stream",
     "text": [
      "[[ 4851 13499  1592  2080]]\n",
      "CPU times: user 1.68 ms, sys: 1.47 ms, total: 3.15 ms\n",
      "Wall time: 2.39 ms\n"
     ]
    }
   ],
   "source": [
    "%%time\n",
    "D, I = index.search(xq, k)  # search\n",
    "print(I)"
   ]
  },
  {
   "cell_type": "code",
   "execution_count": 8,
   "id": "47cd1370",
   "metadata": {},
   "outputs": [
    {
     "data": {
      "text/html": [
       "<div>\n",
       "<style scoped>\n",
       "    .dataframe tbody tr th:only-of-type {\n",
       "        vertical-align: middle;\n",
       "    }\n",
       "\n",
       "    .dataframe tbody tr th {\n",
       "        vertical-align: top;\n",
       "    }\n",
       "\n",
       "    .dataframe thead th {\n",
       "        text-align: right;\n",
       "    }\n",
       "</style>\n",
       "<table border=\"1\" class=\"dataframe\">\n",
       "  <thead>\n",
       "    <tr style=\"text-align: right;\">\n",
       "      <th></th>\n",
       "      <th>0</th>\n",
       "    </tr>\n",
       "  </thead>\n",
       "  <tbody>\n",
       "    <tr>\n",
       "      <th>4851</th>\n",
       "      <td>A group of football players is running in the ...</td>\n",
       "    </tr>\n",
       "    <tr>\n",
       "      <th>13499</th>\n",
       "      <td>A group of people playing football is running ...</td>\n",
       "    </tr>\n",
       "    <tr>\n",
       "      <th>1592</th>\n",
       "      <td>Two groups of people are playing football</td>\n",
       "    </tr>\n",
       "    <tr>\n",
       "      <th>2080</th>\n",
       "      <td>A person playing football is running past an o...</td>\n",
       "    </tr>\n",
       "  </tbody>\n",
       "</table>\n",
       "</div>"
      ],
      "text/plain": [
       "                                                       0\n",
       "4851   A group of football players is running in the ...\n",
       "13499  A group of people playing football is running ...\n",
       "1592           Two groups of people are playing football\n",
       "2080   A person playing football is running past an o..."
      ]
     },
     "execution_count": 8,
     "metadata": {},
     "output_type": "execute_result"
    }
   ],
   "source": [
    "df = pd.DataFrame(sentences)\n",
    "df.iloc[I[0]]"
   ]
  },
  {
   "cell_type": "code",
   "execution_count": 9,
   "id": "05205056",
   "metadata": {},
   "outputs": [],
   "source": [
    "import numpy as np\n",
    "\n",
    "# we have 4 vectors to return (k) - so we initialize a zero array to hold them\n",
    "vecs = np.zeros((k, d))\n",
    "# then iterate through each ID from I and add the reconstructed vector to our zero-array\n",
    "for i, val in enumerate(I[0].tolist()):\n",
    "    vecs[i, :] = index.reconstruct(val)"
   ]
  },
  {
   "cell_type": "code",
   "execution_count": 10,
   "id": "41a1cca0",
   "metadata": {},
   "outputs": [
    {
     "data": {
      "text/plain": [
       "(4, 768)"
      ]
     },
     "execution_count": 10,
     "metadata": {},
     "output_type": "execute_result"
    }
   ],
   "source": [
    "vecs.shape"
   ]
  },
  {
   "cell_type": "code",
   "execution_count": 11,
   "id": "5af8e3a2",
   "metadata": {},
   "outputs": [
    {
     "data": {
      "text/plain": [
       "array([ 0.01627016,  0.22325927, -0.15037419, -0.3074725 , -0.27122453,\n",
       "       -0.1059317 , -0.06460921,  0.04738173, -0.73349053, -0.37657681,\n",
       "       -0.76762795,  0.16902876,  0.53107649,  0.51176685,  1.14415848,\n",
       "       -0.08562913, -0.67240077, -0.96637076,  0.02545468, -0.21559817,\n",
       "       -1.25656593, -0.82982165, -0.09824992, -0.21850854,  0.50610226,\n",
       "        0.10527941,  0.50396854,  0.65242964, -1.39458752,  0.6584745 ,\n",
       "       -0.21525328, -0.22487439,  0.81818342,  0.08464288, -0.76141691,\n",
       "       -0.28928283, -0.09825843, -0.7304619 ,  0.07855771, -0.84354633,\n",
       "       -0.59242111,  0.77471358, -1.20920551, -0.22757958, -1.30733597,\n",
       "       -0.23081468, -1.31322515,  0.01629069, -0.97285467,  0.19308208,\n",
       "        0.47424546,  1.18920863, -1.96741295, -0.70061129, -0.29638684,\n",
       "        0.60533673,  0.62407446, -0.70340395, -0.86754221,  0.17673145,\n",
       "       -0.191705  , -0.02951988,  0.22623558, -0.16695474, -0.80402523,\n",
       "       -0.45918933,  0.69675493, -0.24928206, -1.01478684, -0.921745  ,\n",
       "       -0.33842635, -0.39296758, -0.83734864, -0.1147922 ,  0.46049681,\n",
       "       -1.45211208,  0.60310447,  0.38696298, -0.04061236,  0.00453148,\n",
       "        0.24117811,  0.0539629 ,  0.07506451,  1.05115855,  0.12383977,\n",
       "       -0.71281117,  0.11722893,  0.52238202, -0.04581179,  0.26827106,\n",
       "        0.85985404, -0.35669947, -0.64667076, -0.54357952, -0.04310481,\n",
       "        0.95139176, -0.15605783, -0.49625349, -0.11140189,  0.15610115])"
      ]
     },
     "execution_count": 11,
     "metadata": {},
     "output_type": "execute_result"
    }
   ],
   "source": [
    "vecs[0][:100]"
   ]
  },
  {
   "cell_type": "code",
   "execution_count": 12,
   "id": "8fa2aeb3",
   "metadata": {},
   "outputs": [],
   "source": [
    "nlist = 50  # how many cells\n",
    "quantizer = faiss.IndexFlatL2(d)\n",
    "index = faiss.IndexIVFFlat(quantizer, d, nlist)"
   ]
  },
  {
   "cell_type": "code",
   "execution_count": 13,
   "id": "4e4cecbd",
   "metadata": {},
   "outputs": [
    {
     "data": {
      "text/plain": [
       "False"
      ]
     },
     "execution_count": 13,
     "metadata": {},
     "output_type": "execute_result"
    }
   ],
   "source": [
    "index.is_trained"
   ]
  },
  {
   "cell_type": "code",
   "execution_count": 14,
   "id": "77a90ec7",
   "metadata": {},
   "outputs": [
    {
     "data": {
      "text/plain": [
       "True"
      ]
     },
     "execution_count": 14,
     "metadata": {},
     "output_type": "execute_result"
    }
   ],
   "source": [
    "index.train(sentence_embeddings)\n",
    "index.is_trained  # check if index is now trained"
   ]
  },
  {
   "cell_type": "code",
   "execution_count": 15,
   "id": "c5524bd5",
   "metadata": {},
   "outputs": [
    {
     "data": {
      "text/plain": [
       "14504"
      ]
     },
     "execution_count": 15,
     "metadata": {},
     "output_type": "execute_result"
    }
   ],
   "source": [
    "index.add(sentence_embeddings)\n",
    "index.ntotal  # number of embeddings indexed"
   ]
  },
  {
   "cell_type": "code",
   "execution_count": 16,
   "id": "e8a6f6b8",
   "metadata": {},
   "outputs": [
    {
     "name": "stdout",
     "output_type": "stream",
     "text": [
      "[[ 4851 13499  8199 13258]]\n",
      "CPU times: user 7.94 ms, sys: 8.76 ms, total: 16.7 ms\n",
      "Wall time: 852 µs\n"
     ]
    }
   ],
   "source": [
    "%%time\n",
    "D, I = index.search(xq, k)  # search\n",
    "print(I)"
   ]
  },
  {
   "cell_type": "code",
   "execution_count": 17,
   "id": "214bdc3a",
   "metadata": {},
   "outputs": [],
   "source": [
    "index.nprobe = 10"
   ]
  },
  {
   "cell_type": "code",
   "execution_count": 18,
   "id": "708c74e2",
   "metadata": {},
   "outputs": [
    {
     "name": "stdout",
     "output_type": "stream",
     "text": [
      "[[ 4851 13499  1592  2080]]\n",
      "CPU times: user 317 µs, sys: 349 µs, total: 666 µs\n",
      "Wall time: 505 µs\n"
     ]
    }
   ],
   "source": [
    "%%time\n",
    "D, I = index.search(xq, k)  # search\n",
    "print(I)"
   ]
  },
  {
   "cell_type": "code",
   "execution_count": 19,
   "id": "4a9a13e8",
   "metadata": {},
   "outputs": [],
   "source": [
    "index.make_direct_map()"
   ]
  },
  {
   "cell_type": "code",
   "execution_count": 20,
   "id": "92294385",
   "metadata": {},
   "outputs": [
    {
     "data": {
      "text/plain": [
       "array([ 3.04394990e-01, -2.84085423e-01,  2.02326822e+00,  4.01441276e-01,\n",
       "        1.29176721e-01,  4.74078238e-01, -5.89090586e-01,  5.95174670e-01,\n",
       "       -4.31007594e-01, -2.53566921e-01, -7.75542676e-01,  2.09441051e-01,\n",
       "        5.23927808e-01,  9.53339696e-01, -3.38644058e-01, -3.12875994e-02,\n",
       "       -4.28985327e-01, -6.78114772e-01,  1.25197813e-01, -8.27183664e-01,\n",
       "        3.72428745e-01,  7.88508773e-01,  4.12336707e-01, -5.37086129e-01,\n",
       "       -8.79266977e-01, -7.75970995e-01, -4.84306544e-01, -1.50105238e+00,\n",
       "       -2.17005953e-01,  1.39823020e-01,  1.43711686e-01, -6.38287663e-01,\n",
       "        6.29600883e-01,  1.16711289e-01, -3.79063159e-01,  1.61511853e-01,\n",
       "        6.17935359e-01, -3.27075124e-02,  6.11150414e-02, -5.80821753e-01,\n",
       "        3.92929882e-01,  4.34127003e-01,  9.69810486e-01,  9.00198638e-01,\n",
       "       -3.77318382e-01, -4.86120760e-01,  6.72118425e-01,  1.16454877e-01,\n",
       "        3.77468318e-02, -7.94528961e-01, -1.45748162e+00, -1.75383747e-01,\n",
       "        4.08601820e-01,  3.72452557e-01, -6.04192853e-01,  1.12803830e-02,\n",
       "        2.24665746e-01, -1.30631971e+00, -1.37225457e-03,  1.34174049e+00,\n",
       "        1.67317763e-01, -7.39348114e-01,  7.33616173e-01,  5.68326712e-01,\n",
       "       -5.88791609e-01,  3.69559914e-01,  3.15524697e-01, -7.85308778e-01,\n",
       "       -6.35981321e-01, -3.20760071e-01,  5.09503424e-01, -6.92141294e-01,\n",
       "       -1.18083425e-01,  7.09742725e-01, -2.12332058e+00, -4.24097836e-01,\n",
       "        4.18267369e-01,  7.11703181e-01,  8.19745183e-01,  7.53958046e-01,\n",
       "       -4.29300636e-01,  4.13190812e-01,  1.35335100e+00,  6.07271254e-01,\n",
       "       -2.80845046e-01,  4.78232652e-02,  3.63265842e-01,  1.92254052e-01,\n",
       "       -1.42786455e+00,  3.58512551e-01,  4.42845941e-01,  1.81842506e-01,\n",
       "        1.67548418e+00, -1.29643515e-01, -4.56378788e-01, -1.02214289e+00,\n",
       "       -5.23554944e-02,  2.07904845e-01,  2.06709430e-01, -4.72613961e-01],\n",
       "      dtype=float32)"
      ]
     },
     "execution_count": 20,
     "metadata": {},
     "output_type": "execute_result"
    }
   ],
   "source": [
    "index.reconstruct(7460)[:100]"
   ]
  },
  {
   "cell_type": "code",
   "execution_count": 21,
   "id": "6f5d4ba8",
   "metadata": {},
   "outputs": [],
   "source": [
    "m = 8  # number of centroid IDs in final compressed vectors\n",
    "bits = 8 # number of bits in each centroid\n",
    "\n",
    "quantizer = faiss.IndexFlatL2(d)  # we keep the same L2 distance flat index\n",
    "index = faiss.IndexIVFPQ(quantizer, d, nlist, m, bits) "
   ]
  },
  {
   "cell_type": "code",
   "execution_count": 22,
   "id": "83ad94b3",
   "metadata": {},
   "outputs": [
    {
     "data": {
      "text/plain": [
       "False"
      ]
     },
     "execution_count": 22,
     "metadata": {},
     "output_type": "execute_result"
    }
   ],
   "source": [
    "index.is_trained"
   ]
  },
  {
   "cell_type": "code",
   "execution_count": 23,
   "id": "a9fc1bbe",
   "metadata": {},
   "outputs": [],
   "source": [
    "index.train(sentence_embeddings)"
   ]
  },
  {
   "cell_type": "code",
   "execution_count": 24,
   "id": "6feecbae",
   "metadata": {},
   "outputs": [],
   "source": [
    "index.add(sentence_embeddings)"
   ]
  },
  {
   "cell_type": "code",
   "execution_count": 25,
   "id": "71cf89a5",
   "metadata": {},
   "outputs": [],
   "source": [
    "index.nprobe = 10  # align to previous IndexIVFFlat nprobe value"
   ]
  },
  {
   "cell_type": "code",
   "execution_count": 26,
   "id": "014867e7",
   "metadata": {},
   "outputs": [
    {
     "name": "stdout",
     "output_type": "stream",
     "text": [
      "[[11170  6510  9088  2080]]\n",
      "CPU times: user 4.06 ms, sys: 4.77 ms, total: 8.83 ms\n",
      "Wall time: 301 µs\n"
     ]
    }
   ],
   "source": [
    "%%time\n",
    "D, I = index.search(xq, k)\n",
    "print(I)"
   ]
  },
  {
   "cell_type": "code",
   "execution_count": 27,
   "id": "bbbe7876",
   "metadata": {},
   "outputs": [
    {
     "data": {
      "text/plain": [
       "['11170: A football player is running past an official carrying a football',\n",
       " '6510: A football player kicks the ball.',\n",
       " '9088: Football players are on the field.',\n",
       " '2080: A person playing football is running past an official carrying a football']"
      ]
     },
     "execution_count": 27,
     "metadata": {},
     "output_type": "execute_result"
    }
   ],
   "source": [
    "[f'{i}: {sentences[i]}' for i in I[0]]"
   ]
  },
  {
   "cell_type": "code",
   "execution_count": null,
   "id": "51aab14c",
   "metadata": {},
   "outputs": [],
   "source": []
  },
  {
   "cell_type": "code",
   "execution_count": null,
   "id": "68ad2a19",
   "metadata": {},
   "outputs": [],
   "source": []
  }
 ],
 "metadata": {
  "kernelspec": {
   "display_name": "Python [conda env:faiss_1.7.4] *",
   "language": "python",
   "name": "conda-env-faiss_1.7.4-py"
  },
  "language_info": {
   "codemirror_mode": {
    "name": "ipython",
    "version": 3
   },
   "file_extension": ".py",
   "mimetype": "text/x-python",
   "name": "python",
   "nbconvert_exporter": "python",
   "pygments_lexer": "ipython3",
   "version": "3.10.12"
  }
 },
 "nbformat": 4,
 "nbformat_minor": 5
}
